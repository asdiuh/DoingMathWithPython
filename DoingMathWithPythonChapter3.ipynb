{
 "cells": [
  {
   "cell_type": "code",
   "execution_count": 4,
   "metadata": {},
   "outputs": [
    {
     "name": "stdout",
     "output_type": "stream",
     "text": [
      "mean is 795.181\n",
      "10\n",
      "even\n",
      "median is 883.545\n",
      "Counter({4: 2, 1: 1, 2: 1, 3: 1})\n"
     ]
    }
   ],
   "source": [
    "#!/usr/bin/env python3\n",
    "# -*- coding: utf-8 -*-\n",
    "\"\"\"\n",
    "Created on Mon Apr 20 20:12:57 2020\n",
    "\n",
    "@author: redhwanzaman1989\n",
    "\"\"\"\n",
    "def calculate_mean(number):\n",
    "    s = sum(number)\n",
    "    l = len(number)\n",
    "    mean = s/l\n",
    "    print('mean is {0}'.format(mean))\n",
    "    return mean\n",
    "    \n",
    "def calculate_median(number):\n",
    "    number = money\n",
    "    number1 = sorted(number)\n",
    "    n = len(number1)\n",
    "    print(n)\n",
    "    if (n%2) == 1:\n",
    "        print('odd')\n",
    "        m = (n+1) / 2\n",
    "        median = number[m]\n",
    "\n",
    "    elif (n%2) == 0:\n",
    "        print('even')\n",
    "        n = len(number)\n",
    "        m1 = int(n/2)\n",
    "        m2 = int(n/2 + 1)\n",
    "        median = (float(number[m1]) + float(number[m2]))/2\n",
    "        print('median is {0}'.format(median))\n",
    "        \n",
    "    return median\n",
    "    print('median is {0}'.format(median))    \n",
    "        \n",
    "money = [\n",
    "        806.75,\n",
    "        801.92,\n",
    "        774.01,\n",
    "        587.03,\n",
    "        797.51,\n",
    "        908.04,\n",
    "        859.05,\n",
    "        528.03,\n",
    "        978.42,\n",
    "        911.05\n",
    "        ]\n",
    "\n",
    "calculate_mean(money)\n",
    "calculate_median(money)\n",
    "\n",
    "\n",
    "\n",
    "\n",
    "\n",
    "\n",
    "\n",
    "\n",
    "\n"
   ]
  },
  {
   "cell_type": "code",
   "execution_count": 11,
   "metadata": {},
   "outputs": [
    {
     "name": "stdout",
     "output_type": "stream",
     "text": [
      "[(4, 2), (1, 1), (2, 1), (3, 1)]\n",
      "Counter({4: 2, 1: 1, 2: 1, 3: 1})\n"
     ]
    }
   ],
   "source": [
    "#find mode\n",
    "simplelist = [4,2,1,3,4]\n",
    "from collections import Counter\n",
    "c = Counter(simplelist)\n",
    "print(c.most_common())\n",
    "print(c)"
   ]
  },
  {
   "cell_type": "code",
   "execution_count": 24,
   "metadata": {},
   "outputs": [
    {
     "name": "stdout",
     "output_type": "stream",
     "text": [
      "Number\tFrequency\n",
      "9\t5\n",
      "6\t3\n",
      "1\t2\n",
      "5\t2\n",
      "7\t2\n",
      "8\t2\n",
      "10\t2\n",
      "2\t1\n",
      "4\t1\n"
     ]
    }
   ],
   "source": [
    "def frequency_table(numbers):\n",
    "    table = Counter(numbers)\n",
    "    print('Number\\tFrequency')\n",
    "    \n",
    "    for number in table.most_common():\n",
    "        print('{0}\\t{1}'.format(number[0], number[1]))\n",
    "    \n",
    "scores = [7, 8, 9, 2, 10, 9, 9, 9, 9, 4, 5, 6, 1, 5, 6, 7, 8, 6, 1, 10]\n",
    "frequency_table(scores)\n"
   ]
  }
 ],
 "metadata": {
  "kernelspec": {
   "display_name": "Python 3",
   "language": "python",
   "name": "python3"
  },
  "language_info": {
   "codemirror_mode": {
    "name": "ipython",
    "version": 3
   },
   "file_extension": ".py",
   "mimetype": "text/x-python",
   "name": "python",
   "nbconvert_exporter": "python",
   "pygments_lexer": "ipython3",
   "version": "3.5.3"
  }
 },
 "nbformat": 4,
 "nbformat_minor": 2
}
